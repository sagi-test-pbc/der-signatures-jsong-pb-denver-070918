{
 "cells": [
  {
   "cell_type": "markdown",
   "metadata": {},
   "source": [
    "# DER Signatures"
   ]
  },
  {
   "cell_type": "markdown",
   "metadata": {},
   "source": [
    "Another class that we need to learn to serialize are signatures. Much like the SEC format, it needs to encode two different numbers, r and s. Unfortunately, unlike S256Point, Signature cannot be compressed as s cannot be derived solely from r.\n",
    "\n",
    "The standard for serializing signatures is called DER format. DER stands for ... and was used by Satoshi to create Bitcoin. This was most likely because the standard was already defined in 2008 and it was easy enough to adopt, rather than creating a new standard.\n",
    "\n",
    "DER Signatures are created like this:\n",
    "\n",
    "1. Start with the 0x30 byte\n",
    "2. Encode the length of the rest of the signature (usually 0x44 or 0x45) and append\n",
    "3. Append the marker byte (0x02)\n",
    "4. Encode r as a big endian integer, but prepend with 0x00 byte if r's first byte >= 0x80. Add this to the result\n",
    "5. Append the marker byte (0x02)\n",
    "6. Encode s as a big endian integer, but prepend with 0x00 byte if s's first byte >= 0x80. Add this to the result\n",
    "\n",
    "Because we know r is a 256-bit integer, r will be at most 32-bytes expressed as big-endian. It's also possible the first byte could be >= 0x80, so part 4 can be at most 33-bytes. However, if r is a relatively small number, it could be less than 32 bytes. Same goes for s and part 6.\n",
    "\n",
    "Here's how this is coded in Python:\n",
    "\n",
    "```python\n",
    "class Signature:\n",
    "...\n",
    "    def der(self):\n",
    "        rbin = self.r.to_bytes(32, byteorder='big')\n",
    "        # remove all null bytes at the beginning\n",
    "        rbin = rbin.lstrip(b'\\x00')\n",
    "        # if rbin has a high bit, add a \\x00\n",
    "        if rbin[0] & 0x80:\n",
    "            rbin = b'\\x00' + rbin\n",
    "        result = bytes([2, len(rbin)]) + rbin  # <1>\n",
    "        sbin = self.s.to_bytes(32, byteorder='big')\n",
    "        # remove all null bytes at the beginning\n",
    "        sbin = sbin.lstrip(b'\\x00')\n",
    "        # if sbin has a high bit, add a \\x00\n",
    "        if sbin[0] & 0x80:\n",
    "            sbin = b'\\x00' + sbin\n",
    "        result += bytes([2, len(sbin)]) + sbin\n",
    "        return bytes([0x30, len(result)]) + result\n",
    "```\n",
    "<1> In Python 3, you can convert a list of numbers to the byte equivalents using bytes([some_integer1, some_integer2])\n",
    "\n",
    "Overall, this is an inefficient way to encode r and s as there are at least 4 bytes that aren't necessary."
   ]
  },
  {
   "cell_type": "markdown",
   "metadata": {},
   "source": [
    "### Try it\n",
    "\n",
    "#### Verify the DER signature for the hash of \"ECDSA is awesome!\" for the given SEC pubkey\n",
    "\n",
    "`z = int.from_bytes(double_sha256('ECDSA is awesome!'), 'big')`\n",
    "\n",
    "Public Key in SEC Format: \n",
    "0204519fac3d910ca7e7138f7013706f619fa8f033e6ec6e09370ea38cee6a7574\n",
    "\n",
    "Signature in DER Format: 304402201f62993ee03fca342fcb45929993fa6ee885e00ddad8de154f268d98f083991402201e1ca12ad140c04e0e022c38f7ce31da426b8009d02832f0b44f39a6b178b7a1"
   ]
  },
  {
   "cell_type": "code",
   "execution_count": 1,
   "metadata": {},
   "outputs": [
    {
     "name": "stdout",
     "output_type": "stream",
     "text": [
      "True\n"
     ]
    }
   ],
   "source": [
    "from ecc import S256Point, Signature\n",
    "from helper import double_sha256\n",
    "\n",
    "der = bytes.fromhex('304402201f62993ee03fca342fcb45929993fa6ee885e00ddad8de154f268d98f083991402201e1ca12ad140c04e0e022c38f7ce31da426b8009d02832f0b44f39a6b178b7a1')\n",
    "sec = bytes.fromhex('0204519fac3d910ca7e7138f7013706f619fa8f033e6ec6e09370ea38cee6a7574')\n",
    "\n",
    "# message is the double_sha256 of the message \"ECDSA is awesome!\"\n",
    "z = int.from_bytes(double_sha256(b'ECDSA is awesome!'), 'big')\n",
    "\n",
    "# parse the der format to get the signature\n",
    "sig = Signature.parse(der)\n",
    "# parse the sec format to get the public key\n",
    "point = S256Point.parse(sec)\n",
    "\n",
    "# use the verify method on S256Point to validate the signature\n",
    "print(point.verify(z, sig))"
   ]
  },
  {
   "cell_type": "code",
   "execution_count": null,
   "metadata": {},
   "outputs": [],
   "source": []
  },
  {
   "cell_type": "code",
   "execution_count": null,
   "metadata": {},
   "outputs": [],
   "source": []
  }
 ],
 "metadata": {
  "kernelspec": {
   "display_name": "Python 3",
   "language": "python",
   "name": "python3"
  },
  "language_info": {
   "codemirror_mode": {
    "name": "ipython",
    "version": 3
   },
   "file_extension": ".py",
   "mimetype": "text/x-python",
   "name": "python",
   "nbconvert_exporter": "python",
   "pygments_lexer": "ipython3",
   "version": "3.6.4"
  }
 },
 "nbformat": 4,
 "nbformat_minor": 2
}
